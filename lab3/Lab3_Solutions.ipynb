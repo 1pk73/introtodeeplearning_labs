{
  "nbformat": 4,
  "nbformat_minor": 0,
  "metadata": {
    "colab": {
      "name": "rl.ipynb",
      "version": "0.3.2",
      "provenance": [],
      "collapsed_sections": []
    },
    "kernelspec": {
      "name": "python2",
      "display_name": "Python 2"
    },
    "accelerator": "GPU"
  },
  "cells": [
    {
      "metadata": {
        "id": "WoXYKhfZMHiw",
        "colab_type": "text"
      },
      "cell_type": "markdown",
      "source": [
        "# Laboratory 3: Reinforcement Learning\n",
        "\n",
        "TODO: a short RL intro.  \n",
        "![alt text](https://www.kdnuggets.com/images/reinforcement-learning-fig1-700.jpg)\n",
        "\n",
        "## Why do we care about games? \n",
        "While the ultimate goal of reinforcement learning is to teach agents to act in the real, physical world, games provide a set of very useful properties that we also care about: \n",
        "\n",
        "1.   In many cases, games have perfectly describable enviornments. For example, all rules of chess can be formally written and programmed into a chess game simulator;\n",
        "2.   Massively parallelizable. Do not require running in the real world, therefore simultaneous environments can be run on large data clusters; \n",
        "3.   Fast prototyping of algorithms on simpler scenarios can speed up the development of algorithms that could eventually run in the real-world; and\n",
        "4.   ... Games are fun! \n",
        "\n",
        "In this lab, we focus on building a model-free reinforcement learning algorithm to master two different enviornments with varying complexity. \n",
        "\n",
        "1.   **Cartpole:   Balance a pole in an upright position by only moving your base left or right. Low-dimensional observation space.**\n",
        "2.   **Pong:   Beat a classical AI system designed at the game of Pong. High-dimensional observational space -- learning directly from raw pixels!  **\n"
      ]
    },
    {
      "metadata": {
        "id": "zmrHSiXKTXTY",
        "colab_type": "text"
      },
      "cell_type": "markdown",
      "source": [
        "#Part 1: Cartpole\n",
        "\n",
        "First we'll import TensorFlow, enable Eager execution, and also import some dependencies."
      ]
    },
    {
      "metadata": {
        "id": "xk5qeNPWCm00",
        "colab_type": "code",
        "colab": {}
      },
      "cell_type": "code",
      "source": [
        "!apt-get install -y xvfb python-opengl > /dev/null 2>&1\n",
        "!pip install gym pyvirtualdisplay scikit-video > /dev/null 2>&1\n",
        "\n",
        "import tensorflow as tf\n",
        "tf.enable_eager_execution()\n",
        "\n",
        "\n",
        "import gym\n",
        "import numpy as np\n",
        "import matplotlib.pyplot as plt\n",
        "from IPython import display as ipythondisplay\n",
        "import time"
      ],
      "execution_count": 0,
      "outputs": []
    },
    {
      "metadata": {
        "id": "UT7YL8KBJIIc",
        "colab_type": "text"
      },
      "cell_type": "markdown",
      "source": [
        "### 1.1 Define and inspect the environment"
      ]
    },
    {
      "metadata": {
        "id": "quv9SC0iIYFm",
        "colab_type": "code",
        "outputId": "4aca6979-f966-4c39-f474-8311aef6157b",
        "colab": {
          "base_uri": "https://localhost:8080/",
          "height": 34
        }
      },
      "cell_type": "code",
      "source": [
        "env = gym.make(\"CartPole-v0\")\n",
        "env.seed(1) # reproducible, since RL has high variance"
      ],
      "execution_count": 22,
      "outputs": [
        {
          "output_type": "execute_result",
          "data": {
            "text/plain": [
              "[1L]"
            ]
          },
          "metadata": {
            "tags": []
          },
          "execution_count": 22
        }
      ]
    },
    {
      "metadata": {
        "id": "mhEITUcKK455",
        "colab_type": "text"
      },
      "cell_type": "markdown",
      "source": [
        "observations: \n",
        "1. position of cart\n",
        "2. velocity of cart\n",
        "3. angle of pole\n",
        "4. rotation rate of pole\n",
        "\n",
        "We can confirm the size of the space by querying the observation space\n"
      ]
    },
    {
      "metadata": {
        "id": "UVJaEcbdIX82",
        "colab_type": "code",
        "outputId": "0b950aa9-36f4-405d-c189-f021f65a0582",
        "colab": {
          "base_uri": "https://localhost:8080/",
          "height": 34
        }
      },
      "cell_type": "code",
      "source": [
        "print \"Enviornment has observation space = {}\".format(env.observation_space)"
      ],
      "execution_count": 5,
      "outputs": [
        {
          "output_type": "stream",
          "text": [
            "Enviornment has observation space = Box(4,)\n"
          ],
          "name": "stdout"
        }
      ]
    },
    {
      "metadata": {
        "id": "ZibGgjrALgPM",
        "colab_type": "text"
      },
      "cell_type": "markdown",
      "source": [
        "At every time step, the agent can move either right or left. Again, we can confirm the size of the action space again by querying the environment"
      ]
    },
    {
      "metadata": {
        "id": "qc9SIPxBIXrm",
        "colab_type": "code",
        "outputId": "cef9467d-f529-4300-a5d5-8d0ab92262b0",
        "colab": {
          "base_uri": "https://localhost:8080/",
          "height": 34
        }
      },
      "cell_type": "code",
      "source": [
        "n_actions = env.action_space.n\n",
        "print \"Number of possible actions that the agent can choose from = {}\".format(n_actions)"
      ],
      "execution_count": 10,
      "outputs": [
        {
          "output_type": "stream",
          "text": [
            "Number of possible actions that the agent can choose from = 2\n"
          ],
          "name": "stdout"
        }
      ]
    },
    {
      "metadata": {
        "id": "pPfHME8aRKkb",
        "colab_type": "text"
      },
      "cell_type": "markdown",
      "source": [
        "### 1.2 Define the Agent\n",
        "\n",
        "Let's define our agent, which is simply a deep neural network which takes as input an observation of the enviornment and outputs the probability of taking each of the possible actions. \n"
      ]
    },
    {
      "metadata": {
        "id": "W-o_XK4oQ4eu",
        "colab_type": "code",
        "colab": {}
      },
      "cell_type": "code",
      "source": [
        "def create_cartpole_model():\n",
        "  model = tf.keras.models.Sequential([\n",
        "      tf.keras.layers.Dense(units=32, activation='relu'),\n",
        "      tf.keras.layers.Dense(units=n_actions, activation=None)\n",
        "  ])\n",
        "  return model\n",
        "\n",
        "cartpole_model = create_cartpole_model()"
      ],
      "execution_count": 0,
      "outputs": []
    },
    {
      "metadata": {
        "id": "d5D5NSIYS2IW",
        "colab_type": "text"
      },
      "cell_type": "markdown",
      "source": [
        "Define the action function that executes a forward pass through the network and samples from the output. Take special note of the output activation of the model."
      ]
    },
    {
      "metadata": {
        "id": "E_vVZRr8Q4R_",
        "colab_type": "code",
        "colab": {}
      },
      "cell_type": "code",
      "source": [
        "def choose_action(model, observation):\n",
        "    \n",
        "  observation = observation.reshape([1, -1])\n",
        "  logits = model.predict(observation)\n",
        "\n",
        "  prob_weights = tf.nn.softmax(logits).numpy()\n",
        "\n",
        "  action = np.random.choice(n_actions, size=1, p=prob_weights.flatten())[0]\n",
        "\n",
        "  return action"
      ],
      "execution_count": 0,
      "outputs": []
    },
    {
      "metadata": {
        "id": "_tR9uAWcTnkr",
        "colab_type": "text"
      },
      "cell_type": "markdown",
      "source": [
        "### 1.3 Create the agent's memory\n",
        "\n",
        "During training, the agent will need to remember all of its observations, actions so that once the episode ends, it can \"reinforce\" the good actions and punish the undesirable actions. Let's do this by defining a simple memory buffer that contains the "
      ]
    },
    {
      "metadata": {
        "id": "8MM6JwXVQ4JG",
        "colab_type": "code",
        "colab": {}
      },
      "cell_type": "code",
      "source": [
        "class Memory:\n",
        "  def __init__(self): \n",
        "      self.clear()\n",
        "\n",
        "  def clear(self): \n",
        "      self.observations = []\n",
        "      self.actions = []\n",
        "      self.rewards = []\n",
        "\n",
        "  def add_to_memory(self, new_observation, new_action, new_reward): \n",
        "      self.observations.append(new_observation)\n",
        "      self.actions.append(new_action)\n",
        "      self.rewards.append(new_reward)\n",
        "        \n",
        "memory = Memory()"
      ],
      "execution_count": 0,
      "outputs": []
    },
    {
      "metadata": {
        "id": "D4YhtPaUVj5m",
        "colab_type": "text"
      },
      "cell_type": "markdown",
      "source": [
        "We're almost ready to begin the learning algorithm for our agent! The final step is to compute the discounted rewards of our agent. Recall from lecture, we use reward discount to give more preference at getting rewards now rather than later in the future. The idea of discounting rewards is similar to discounting money in the case of interest and can be defined as: \n",
        "\n",
        "TODO: put the equation for discounted rewards here\n"
      ]
    },
    {
      "metadata": {
        "id": "5_Q2OFYtQ32X",
        "colab_type": "code",
        "colab": {}
      },
      "cell_type": "code",
      "source": [
        "def normalize(x):\n",
        "  x -= np.mean(x)\n",
        "  x -= np.std(x)\n",
        "  return x\n",
        "\n",
        "def discount_rewards(rewards, gamma=0.95): \n",
        "  discounted_rewards = np.zeros_like(rewards)\n",
        "  R = 0\n",
        "  for t in reversed(range(0, len(rewards))):\n",
        "      R = R * gamma + rewards[t]\n",
        "      discounted_rewards[t] = R\n",
        "      \n",
        "  return normalize(discounted_rewards)"
      ],
      "execution_count": 0,
      "outputs": []
    },
    {
      "metadata": {
        "id": "A6IcAnXQX8hz",
        "colab_type": "text"
      },
      "cell_type": "markdown",
      "source": [
        "Also, let's define a normalizing function to normalize our rewards to be zero-centered with standard deviation of one for stability while training. "
      ]
    },
    {
      "metadata": {
        "id": "QzbY-mjGYcmt",
        "colab_type": "text"
      },
      "cell_type": "markdown",
      "source": [
        "### 1.4 Define the learning algorithm\n",
        "\n",
        "Start by defining the optimizer we want to use."
      ]
    },
    {
      "metadata": {
        "id": "m3u6xDNMY0zg",
        "colab_type": "code",
        "colab": {}
      },
      "cell_type": "code",
      "source": [
        "learning_rate = 1e-3\n",
        "optimizer = tf.train.AdamOptimizer(learning_rate)"
      ],
      "execution_count": 0,
      "outputs": []
    },
    {
      "metadata": {
        "id": "M-LJwWqTZegG",
        "colab_type": "text"
      },
      "cell_type": "markdown",
      "source": [
        "And now let's define the loss function. In this lab we are focusing on policy gradient methods which aim to **maximize** the likelihood of actions that result in large rewards. Equivalently, this means that we want to **minimize** the negative likelihood of these same actions. Like in supervised learning, we can use stochastic gradient descent methods to achieve this minimization. \n",
        "\n",
        "Since the log function is monotonically increasing, this means that minimizing negative **likelihood** is equivalent to minimizing negative **log-likelihood**.  Recall that we can easily compute the negative log-likelihood of an discrete action by evaluting its softmax cross entropy (https://www.tensorflow.org/api_docs/python/tf/nn/sparse_softmax_cross_entropy_with_logits) "
      ]
    },
    {
      "metadata": {
        "id": "fsgZ3IDCY_Zn",
        "colab_type": "code",
        "colab": {}
      },
      "cell_type": "code",
      "source": [
        "def compute_loss(logits, actions, rewards): \n",
        "  neg_logprob = tf.nn.sparse_softmax_cross_entropy_with_logits(logits=logits, labels=actions)\n",
        "  loss = tf.reduce_mean( neg_logprob * rewards )\n",
        "  return loss"
      ],
      "execution_count": 0,
      "outputs": []
    },
    {
      "metadata": {
        "id": "Rr5vQ9fqbPpp",
        "colab_type": "text"
      },
      "cell_type": "markdown",
      "source": [
        "Now let's use the loss function to define a backpropogation step of our learning algorithm."
      ]
    },
    {
      "metadata": {
        "id": "8Bl_4O1KjN-t",
        "colab_type": "code",
        "colab": {}
      },
      "cell_type": "code",
      "source": [
        "import pdb"
      ],
      "execution_count": 0,
      "outputs": []
    },
    {
      "metadata": {
        "id": "_50ada7nbZ7L",
        "colab_type": "code",
        "colab": {}
      },
      "cell_type": "code",
      "source": [
        "def train_step(model, optimizer, observations, actions, discounted_rewards):\n",
        "  with tf.GradientTape() as tape:\n",
        "      # Forward propogate through the agent\n",
        "      observations = tf.convert_to_tensor(observations, dtype=tf.float32)\n",
        "      logits = model(observations)\n",
        "\n",
        "      # Compute the loss\n",
        "      loss = compute_loss(logits, actions, discounted_rewards)\n",
        "\n",
        "  # Backpropagation\n",
        "  grads = tape.gradient(loss, model.variables)\n",
        "  optimizer.apply_gradients(zip(grads, model.variables), global_step=tf.train.get_or_create_global_step())"
      ],
      "execution_count": 0,
      "outputs": []
    },
    {
      "metadata": {
        "id": "XsjKXh6BcgjR",
        "colab_type": "text"
      },
      "cell_type": "markdown",
      "source": [
        "### 1.5 Let the agent go and watch it learn from scratch!"
      ]
    },
    {
      "metadata": {
        "id": "XmOzc2rrcn8Q",
        "colab_type": "code",
        "colab": {
          "base_uri": "https://localhost:8080/",
          "height": 1041
        },
        "outputId": "e94b0afd-325b-4021-d227-3362584d42ce"
      },
      "cell_type": "code",
      "source": [
        "def plot_progress(x):\n",
        "  plt.cla()\n",
        "  plt.plot(x)\n",
        "  plt.xlabel('# Episodes'); plt.ylabel('Reward')\n",
        "  ipythondisplay.clear_output(wait=True)\n",
        "  ipythondisplay.display(plt.gcf())\n",
        "\n",
        "\n",
        "cartpole_model = create_cartpole_model()\n",
        "MAX_ITERS = 1000\n",
        "alpha = 0.9\n",
        "\n",
        "smoothed_reward = []\n",
        "tic = time.time()\n",
        "for i_episode in range(MAX_ITERS):\n",
        "\n",
        "  if time.time()-tic > 5: #plot every 5 seconds\n",
        "      plot_progress(smoothed_reward)\n",
        "      tic = time.time()\n",
        "\n",
        "  # Restart the environment\n",
        "  observation = env.reset()\n",
        "\n",
        "  while True:\n",
        "      action = choose_action(cartpole_model, observation)\n",
        "      next_observation, reward, done, info = env.step(action)\n",
        "      memory.add_to_memory(observation, action, reward)\n",
        "\n",
        "      if done:\n",
        "          total_reward = sum(memory.rewards)\n",
        "          smoothed_reward.append( alpha*smoothed_reward[-1] + (1-alpha)*total_reward if len(smoothed_reward)>0 else total_reward )\n",
        "\n",
        "          train_step(cartpole_model, \n",
        "                     optimizer, \n",
        "                     observations = np.vstack(memory.observations),\n",
        "                     actions = np.array(memory.actions),\n",
        "                     discounted_rewards = discount_rewards(memory.rewards))\n",
        "          \n",
        "          memory.clear()\n",
        "          break\n",
        "\n",
        "      observation = next_observation"
      ],
      "execution_count": 19,
      "outputs": [
        {
          "output_type": "display_data",
          "data": {
            "image/png": "[encoded data removed]",
            "text/plain": [
              "<Figure size 576x396 with 1 Axes>"
            ]
          },
          "metadata": {
            "tags": []
          }
        },
        {
          "output_type": "error",
          "ename": "KeyboardInterrupt",
          "evalue": "ignored",
          "traceback": [
            "\u001b[0;31m\u001b[0m",
            "\u001b[0;31mKeyboardInterrupt\u001b[0mTraceback (most recent call last)",
            "\u001b[0;32m<ipython-input-19-241a1d0943fd>\u001b[0m in \u001b[0;36m<module>\u001b[0;34m()\u001b[0m\n\u001b[1;32m     23\u001b[0m \u001b[0;34m\u001b[0m\u001b[0m\n\u001b[1;32m     24\u001b[0m   \u001b[0;32mwhile\u001b[0m \u001b[0mTrue\u001b[0m\u001b[0;34m:\u001b[0m\u001b[0;34m\u001b[0m\u001b[0m\n\u001b[0;32m---> 25\u001b[0;31m       \u001b[0maction\u001b[0m \u001b[0;34m=\u001b[0m \u001b[0mchoose_action\u001b[0m\u001b[0;34m(\u001b[0m\u001b[0mcartpole_model\u001b[0m\u001b[0;34m,\u001b[0m \u001b[0mobservation\u001b[0m\u001b[0;34m)\u001b[0m\u001b[0;34m\u001b[0m\u001b[0m\n\u001b[0m\u001b[1;32m     26\u001b[0m       \u001b[0mnext_observation\u001b[0m\u001b[0;34m,\u001b[0m \u001b[0mreward\u001b[0m\u001b[0;34m,\u001b[0m \u001b[0mdone\u001b[0m\u001b[0;34m,\u001b[0m \u001b[0minfo\u001b[0m \u001b[0;34m=\u001b[0m \u001b[0menv\u001b[0m\u001b[0;34m.\u001b[0m\u001b[0mstep\u001b[0m\u001b[0;34m(\u001b[0m\u001b[0maction\u001b[0m\u001b[0;34m)\u001b[0m\u001b[0;34m\u001b[0m\u001b[0m\n\u001b[1;32m     27\u001b[0m       \u001b[0mmemory\u001b[0m\u001b[0;34m.\u001b[0m\u001b[0madd_to_memory\u001b[0m\u001b[0;34m(\u001b[0m\u001b[0mobservation\u001b[0m\u001b[0;34m,\u001b[0m \u001b[0maction\u001b[0m\u001b[0;34m,\u001b[0m \u001b[0mreward\u001b[0m\u001b[0;34m)\u001b[0m\u001b[0;34m\u001b[0m\u001b[0m\n",
            "\u001b[0;32m<ipython-input-12-2232da928ee8>\u001b[0m in \u001b[0;36mchoose_action\u001b[0;34m(model, observation)\u001b[0m\n\u001b[1;32m      6\u001b[0m   \u001b[0mprob_weights\u001b[0m \u001b[0;34m=\u001b[0m \u001b[0mtf\u001b[0m\u001b[0;34m.\u001b[0m\u001b[0mnn\u001b[0m\u001b[0;34m.\u001b[0m\u001b[0msoftmax\u001b[0m\u001b[0;34m(\u001b[0m\u001b[0mlogits\u001b[0m\u001b[0;34m)\u001b[0m\u001b[0;34m.\u001b[0m\u001b[0mnumpy\u001b[0m\u001b[0;34m(\u001b[0m\u001b[0;34m)\u001b[0m\u001b[0;34m\u001b[0m\u001b[0m\n\u001b[1;32m      7\u001b[0m \u001b[0;34m\u001b[0m\u001b[0m\n\u001b[0;32m----> 8\u001b[0;31m   \u001b[0maction\u001b[0m \u001b[0;34m=\u001b[0m \u001b[0mnp\u001b[0m\u001b[0;34m.\u001b[0m\u001b[0mrandom\u001b[0m\u001b[0;34m.\u001b[0m\u001b[0mchoice\u001b[0m\u001b[0;34m(\u001b[0m\u001b[0mn_actions\u001b[0m\u001b[0;34m,\u001b[0m \u001b[0msize\u001b[0m\u001b[0;34m=\u001b[0m\u001b[0;36m1\u001b[0m\u001b[0;34m,\u001b[0m \u001b[0mp\u001b[0m\u001b[0;34m=\u001b[0m\u001b[0mprob_weights\u001b[0m\u001b[0;34m.\u001b[0m\u001b[0mflatten\u001b[0m\u001b[0;34m(\u001b[0m\u001b[0;34m)\u001b[0m\u001b[0;34m)\u001b[0m\u001b[0;34m[\u001b[0m\u001b[0;36m0\u001b[0m\u001b[0;34m]\u001b[0m\u001b[0;34m\u001b[0m\u001b[0m\n\u001b[0m\u001b[1;32m      9\u001b[0m \u001b[0;34m\u001b[0m\u001b[0m\n\u001b[1;32m     10\u001b[0m   \u001b[0;32mreturn\u001b[0m \u001b[0maction\u001b[0m\u001b[0;34m\u001b[0m\u001b[0m\n",
            "\u001b[0;31mKeyboardInterrupt\u001b[0m: "
          ]
        },
        {
          "output_type": "display_data",
          "data": {
            "image/png": "[encoded data removed]",
            "text/plain": [
              "<Figure size 576x396 with 1 Axes>"
            ]
          },
          "metadata": {
            "tags": []
          }
        }
      ]
    },
    {
      "metadata": {
        "id": "mkcUtGF1VE-K",
        "colab_type": "text"
      },
      "cell_type": "markdown",
      "source": [
        "### 1.6 Save a video of the trained model while it is balancing the pole"
      ]
    },
    {
      "metadata": {
        "id": "M40RoTBxo3HD",
        "colab_type": "code",
        "outputId": "a2bf80f5-ff99-4f5b-cfe2-037ee7f54750",
        "colab": {
          "base_uri": "https://localhost:8080/",
          "height": 34
        }
      },
      "cell_type": "code",
      "source": [
        "def save_video_of_model(model, env_name, filename='agent.mp4'):  \n",
        "  import skvideo.io\n",
        "  from pyvirtualdisplay import Display\n",
        "  display = Display(visible=0, size=(40, 30))\n",
        "  display.start()\n",
        "\n",
        "  env = gym.make(env_name)\n",
        "  obs = env.reset()\n",
        "  shape = env.render(mode='rgb_array').shape[0:2]\n",
        "\n",
        "  out = skvideo.io.FFmpegWriter(\"agent2.mp4\")\n",
        "\n",
        "  done = False\n",
        "  while not done: \n",
        "      frame = env.render(mode='rgb_array')\n",
        "      out.writeFrame(frame)\n",
        "      \n",
        "      action = model(tf.convert_to_tensor(obs.reshape((1,-1)), tf.float32)).numpy().argmax()\n",
        "      obs, reward, done, info = env.step(action)\n",
        "  out.close()\n",
        "  print \"Successfully saved into {}!\".format(filename)\n",
        "\n",
        "save_video_of_model(cartpole_model, \"CartPole-v0\")"
      ],
      "execution_count": 20,
      "outputs": [
        {
          "output_type": "stream",
          "text": [
            "Successfully saved into agent.mp4!\n"
          ],
          "name": "stdout"
        }
      ]
    },
    {
      "metadata": {
        "id": "dvvqdwO7VV_L",
        "colab_type": "text"
      },
      "cell_type": "markdown",
      "source": [
        "### 1.7 Display the saved video"
      ]
    },
    {
      "metadata": {
        "id": "DBjhWQ0XwQ1d",
        "colab_type": "code",
        "outputId": "f1705f7d-0883-4746-e61f-199370a698d3",
        "colab": {
          "base_uri": "https://localhost:8080/",
          "height": 421
        }
      },
      "cell_type": "code",
      "source": [
        "from IPython.display import HTML\n",
        "import io, base64\n",
        "video = io.open('./agent2.mp4', 'r+b').read()\n",
        "encoded = base64.b64encode(video)\n",
        "HTML(data='''\n",
        "<video controls>\n",
        "    <source src=\"data:video/mp4;base64,{0}\" type=\"video/mp4\" />\n",
        "</video>'''.format(encoded.decode('ascii')))"
      ],
      "execution_count": 21,
      "outputs": [
        {
          "output_type": "execute_result",
          "data": {
            "text/html": [
              "\n",
              "<video controls>\n",
              "    <source src=\"data:video/mp4;base64,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\" type=\"video/mp4\" />\n",
              "</video>"
            ],
            "text/plain": [
              "<IPython.core.display.HTML object>"
            ]
          },
          "metadata": {
            "tags": []
          },
          "execution_count": 21
        }
      ]
    },
    {
      "metadata": {
        "id": "CSbVNDpaVb3_",
        "colab_type": "text"
      },
      "cell_type": "markdown",
      "source": [
        "Congratulations, well done!"
      ]
    },
    {
      "metadata": {
        "id": "Eu6Mqxc720ST",
        "colab_type": "text"
      },
      "cell_type": "markdown",
      "source": [
        "## Pong"
      ]
    },
    {
      "metadata": {
        "id": "sH2YjDzgqFXC",
        "colab_type": "code",
        "colab": {}
      },
      "cell_type": "code",
      "source": [
        ""
      ],
      "execution_count": 0,
      "outputs": []
    }
  ]
}